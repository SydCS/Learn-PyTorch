{
 "cells": [
  {
   "cell_type": "code",
   "execution_count": 2,
   "metadata": {},
   "outputs": [
    {
     "name": "stdout",
     "output_type": "stream",
     "text": [
      "tensor([2.2000], grad_fn=<MulBackward0>)\n",
      "False\n",
      "True\n",
      "tensor([4.2000])\n",
      "None\n"
     ]
    }
   ],
   "source": [
    "import torch\n",
    "\n",
    "a = torch.tensor([1.1], requires_grad=True)\n",
    "b = a * 2\n",
    "print(b)\n",
    "with torch.no_grad():\n",
    "    c = b + 2\n",
    "print(c.requires_grad)\n",
    "# c.requires_grad_(True)\n",
    "d = torch.tensor([10.0], requires_grad=True)\n",
    "e = c * d\n",
    "print(e.requires_grad)\n",
    "e.backward()\n",
    "print(d.grad)\n",
    "print(a.grad)"
   ]
  }
 ],
 "metadata": {
  "kernelspec": {
   "display_name": "DL",
   "language": "python",
   "name": "python3"
  },
  "language_info": {
   "codemirror_mode": {
    "name": "ipython",
    "version": 3
   },
   "file_extension": ".py",
   "mimetype": "text/x-python",
   "name": "python",
   "nbconvert_exporter": "python",
   "pygments_lexer": "ipython3",
   "version": "3.10.16"
  }
 },
 "nbformat": 4,
 "nbformat_minor": 2
}
