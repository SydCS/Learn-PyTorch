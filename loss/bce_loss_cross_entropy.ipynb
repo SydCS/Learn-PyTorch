{
 "cells": [
  {
   "cell_type": "markdown",
   "id": "bac3a6cd",
   "metadata": {},
   "source": [
    "原理上都适用于分类问题\n",
    "- bce：二分类问题 （0-1）\n",
    "    - 概率的过程通过 sigmoid\n",
    "    - 1d(scalar) 的 output `logits` => 2d `[1-sigmoid(z), sigmoid(z)]`\n",
    "- cross_entropy：多分类问题（`0, 1, 2, ... , C-1`）\n",
    "    - 概率化的过程通过 softmax\n",
    "    - log softmax"
   ]
  },
  {
   "cell_type": "code",
   "execution_count": 11,
   "id": "39602fc9",
   "metadata": {
    "ExecuteTime": {
     "end_time": "2023-11-26T10:25:23.813874Z",
     "start_time": "2023-11-26T10:25:23.806626Z"
    }
   },
   "outputs": [],
   "source": [
    "import torch\n",
    "import torch.nn.functional as F\n",
    "from torch import nn"
   ]
  },
  {
   "cell_type": "code",
   "execution_count": 12,
   "id": "8a0d30b5",
   "metadata": {
    "ExecuteTime": {
     "end_time": "2023-11-26T10:46:14.026352Z",
     "start_time": "2023-11-26T10:46:14.014195Z"
    }
   },
   "outputs": [
    {
     "data": {
      "text/plain": [
       "tensor([ 0.4767, -0.4485, -0.2553], requires_grad=True)"
      ]
     },
     "execution_count": 12,
     "metadata": {},
     "output_type": "execute_result"
    }
   ],
   "source": [
    "# prediction\n",
    "input = torch.randn(3, requires_grad=True)  # number of samples: 3\n",
    "input"
   ]
  },
  {
   "cell_type": "code",
   "execution_count": 13,
   "id": "2d5f5258",
   "metadata": {
    "ExecuteTime": {
     "end_time": "2023-11-26T10:54:17.246800Z",
     "start_time": "2023-11-26T10:54:17.239182Z"
    }
   },
   "outputs": [
    {
     "data": {
      "text/plain": [
       "tensor([1, 0, 0])"
      ]
     },
     "execution_count": 13,
     "metadata": {},
     "output_type": "execute_result"
    }
   ],
   "source": [
    "# GT\n",
    "target = torch.empty(3, dtype=torch.long).random_(2)\n",
    "target"
   ]
  },
  {
   "cell_type": "markdown",
   "id": "96b9924e",
   "metadata": {},
   "source": [
    "## F.binary_cross_entropy\n",
    "\n",
    "F.binary_cross_entropy 的 target 可以是浮点数，未必非得是 0-1 (integer)\n",
    "  - VAE 在图像重构时的 loss，通过 bce loss 定义和计算的；"
   ]
  },
  {
   "cell_type": "code",
   "execution_count": 14,
   "id": "26b93e19",
   "metadata": {
    "ExecuteTime": {
     "end_time": "2023-11-26T10:54:20.291711Z",
     "start_time": "2023-11-26T10:54:20.283599Z"
    }
   },
   "outputs": [
    {
     "data": {
      "text/plain": [
       "tensor(0.5168, grad_fn=<BinaryCrossEntropyBackward0>)"
      ]
     },
     "execution_count": 14,
     "metadata": {},
     "output_type": "execute_result"
    }
   ],
   "source": [
    "loss = F.binary_cross_entropy(torch.sigmoid(input), target.to(torch.float))\n",
    "loss"
   ]
  },
  {
   "cell_type": "code",
   "execution_count": 15,
   "id": "ad3b2515",
   "metadata": {
    "ExecuteTime": {
     "end_time": "2023-11-26T10:54:22.647777Z",
     "start_time": "2023-11-26T10:54:22.633838Z"
    },
    "scrolled": true
   },
   "outputs": [
    {
     "data": {
      "text/plain": [
       "tensor(0.5168, grad_fn=<NegBackward0>)"
      ]
     },
     "execution_count": 15,
     "metadata": {},
     "output_type": "execute_result"
    }
   ],
   "source": [
    "-torch.mean(target * torch.log(F.sigmoid(input)) + (1-target) * torch.log(1-F.sigmoid(input)))"
   ]
  },
  {
   "cell_type": "markdown",
   "id": "8bc4a899",
   "metadata": {},
   "source": [
    "## nn.BCELoss"
   ]
  },
  {
   "cell_type": "code",
   "execution_count": 16,
   "id": "1b90daa6",
   "metadata": {
    "ExecuteTime": {
     "end_time": "2023-11-26T10:54:24.222542Z",
     "start_time": "2023-11-26T10:54:24.210501Z"
    }
   },
   "outputs": [
    {
     "data": {
      "text/plain": [
       "tensor(0.5168, grad_fn=<BinaryCrossEntropyBackward0>)"
      ]
     },
     "execution_count": 16,
     "metadata": {},
     "output_type": "execute_result"
    }
   ],
   "source": [
    "l = nn.BCELoss()\n",
    "l(torch.sigmoid(input), target.to(torch.float))"
   ]
  },
  {
   "cell_type": "markdown",
   "id": "93fb5059",
   "metadata": {},
   "source": [
    "## F.cross_entropy"
   ]
  },
  {
   "cell_type": "markdown",
   "id": "f7a410ac",
   "metadata": {},
   "source": [
    "- 1d => 2d"
   ]
  },
  {
   "cell_type": "code",
   "execution_count": 17,
   "id": "cfdf9940",
   "metadata": {
    "ExecuteTime": {
     "end_time": "2023-11-26T10:54:25.816943Z",
     "start_time": "2023-11-26T10:54:25.804104Z"
    }
   },
   "outputs": [
    {
     "data": {
      "text/plain": [
       "tensor([[-0.9597, -0.4829],\n",
       "        [-0.4938, -0.9423],\n",
       "        [-0.5736, -0.8289]], grad_fn=<LogBackward0>)"
      ]
     },
     "execution_count": 17,
     "metadata": {},
     "output_type": "execute_result"
    }
   ],
   "source": [
    "input_ = torch.stack([1-torch.sigmoid(input), torch.sigmoid(input)], dim=1)\n",
    "# log softmax\n",
    "input_ = torch.log(input_)\n",
    "input_"
   ]
  },
  {
   "cell_type": "code",
   "execution_count": 18,
   "id": "6206b200",
   "metadata": {
    "ExecuteTime": {
     "end_time": "2023-11-26T10:54:28.236956Z",
     "start_time": "2023-11-26T10:54:28.225731Z"
    }
   },
   "outputs": [
    {
     "data": {
      "text/plain": [
       "tensor(0.5168, grad_fn=<NllLossBackward0>)"
      ]
     },
     "execution_count": 18,
     "metadata": {},
     "output_type": "execute_result"
    }
   ],
   "source": [
    "F.nll_loss(input_, target)"
   ]
  }
 ],
 "metadata": {
  "kernelspec": {
   "display_name": "Python 3 (ipykernel)",
   "language": "python",
   "name": "python3"
  },
  "language_info": {
   "codemirror_mode": {
    "name": "ipython",
    "version": 3
   },
   "file_extension": ".py",
   "mimetype": "text/x-python",
   "name": "python",
   "nbconvert_exporter": "python",
   "pygments_lexer": "ipython3",
   "version": "3.10.12"
  },
  "toc": {
   "base_numbering": 1,
   "nav_menu": {},
   "number_sections": true,
   "sideBar": true,
   "skip_h1_title": false,
   "title_cell": "Table of Contents",
   "title_sidebar": "Contents",
   "toc_cell": false,
   "toc_position": {},
   "toc_section_display": true,
   "toc_window_display": false
  }
 },
 "nbformat": 4,
 "nbformat_minor": 5
}
